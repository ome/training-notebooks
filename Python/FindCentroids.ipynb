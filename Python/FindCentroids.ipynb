{
 "cells": [
  {
   "cell_type": "markdown",
   "metadata": {
    "collapsed": true,
    "pycharm": {
     "name": "#%% md\n"
    }
   },
   "source": [
    "# Finding Centroids\n",
    "This notebook is a follow up of the notebook ilastik/pixels_classification_multiple_channels\n",
    "We segment our images using the probability images obtained by ilastik and find the centroids of our objects.\n",
    "\n",
    "## Goal of the analysis\n",
    "We have a number of images from a confocal microscope containing 4 channels (DAPI, 488, 561 and 642). "
   ]
  },
  {
   "cell_type": "markdown",
   "metadata": {},
   "source": [
    "## Prepare the analysis\n",
    "First of all, we need to import the libraries that we are going to use"
   ]
  },
  {
   "cell_type": "code",
   "execution_count": 1,
   "metadata": {
    "pycharm": {
     "is_executing": false,
     "name": "#%%\n"
    }
   },
   "outputs": [],
   "source": [
    "import numpy as np\n",
    "import toolbox\n",
    "import ipywidgets as widgets\n",
    "from IPython.display import display\n",
    "import matplotlib.pyplot as plt\n",
    "from getpass import getpass"
   ]
  },
  {
   "cell_type": "markdown",
   "metadata": {},
   "source": [
    "And define a number of variables that we are going to use in the analysis"
   ]
  },
  {
   "cell_type": "code",
   "execution_count": 2,
   "metadata": {
    "pycharm": {
     "is_executing": false,
     "name": "#%%\n"
    }
   },
   "outputs": [],
   "source": [
    "# the ID if the dataset containing th raw images and the probability images\n",
    "RAW_DATASET_ID = 6205\n",
    "PROBABILITIES_DATASET_ID = 6206\n",
    "\n",
    "# The name of the group where the data is stored\n",
    "GROUP = None  # the group where the data is stored\n",
    "\n",
    "# the URL and port of our OMERO server\n",
    "OMERO_SERVER = 'workshop.openmicroscopy.org'\n",
    "PORT = 4064  # the port to connect to. Default is 4046"
   ]
  },
  {
   "cell_type": "markdown",
   "metadata": {},
   "source": [
    "### Explore your data\n",
    "Now we can connect to OMERO, get some information on the dataset that we want to analyze and explore the data.\n",
    "\n",
    "All the data is arranged in two datasets in the same project. One dataset contains the raw images and the other one \n",
    "contains the probability images extracted using Ilastik."
   ]
  },
  {
   "cell_type": "code",
   "execution_count": 3,
   "metadata": {
    "pycharm": {
     "is_executing": false,
     "name": "#%%\n"
    }
   },
   "outputs": [
    {
     "name": "stdout",
     "text": [
      "Connection successful: True\n",
      "RAW IMAGES\n20181012_S2Rplus_FISH_DAPI_X1-A488_X2-A555_X3-A647.lif [Mark_and_Find_001/Position001] Dimensions(z, c, t, x, y): 30, 4, 1, 1576, 1576\n20181012_S2Rplus_FISH_DAPI_X1-A488_X2-A555_X3-A647.lif [Mark_and_Find_001/Position002] Dimensions(z, c, t, x, y): 30, 4, 1, 1576, 1576\n",
      "20181012_S2Rplus_FISH_DAPI_X1-A488_X2-A555_X3-A647.lif [Mark_and_Find_001/Position003] Dimensions(z, c, t, x, y): 30, 4, 1, 1576, 1576\nPROBABILITY IMAGES\n20181012_S2Rplus_FISH_DAPI_X1-A488_X2-A555_X3-A647_Mark_and_Find_001_Position001_DAPI_Ch1_Probabilities.npy Dimensions(z, c, t, x, y): 30, 2, 1, 1576, 1576\n20181012_S2Rplus_FISH_DAPI_X1-A488_X2-A555_X3-A647_Mark_and_Find_001_Position001_DAPI_Ch2_Probabilities.npy Dimensions(z, c, t, x, y): 30, 2, 1, 1576, 1576\n20181012_S2Rplus_FISH_DAPI_X1-A488_X2-A555_X3-A647_Mark_and_Find_001_Position001_DAPI_Ch3_Probabilities.npy Dimensions(z, c, t, x, y): 30, 2, 1, 1576, 1576\n20181012_S2Rplus_FISH_DAPI_X1-A488_X2-A555_X3-A647_Mark_and_Find_001_Position001_DAPI_Probabilities.npy Dimensions(z, c, t, x, y): 30, 2, 1, 1576, 1576\n",
      "20181012_S2Rplus_FISH_DAPI_X1-A488_X2-A555_X3-A647_Mark_and_Find_001_Position002_DAPI_Ch1_Probabilities.npy Dimensions(z, c, t, x, y): 30, 2, 1, 1576, 1576\n20181012_S2Rplus_FISH_DAPI_X1-A488_X2-A555_X3-A647_Mark_and_Find_001_Position002_DAPI_Ch2_Probabilities.npy Dimensions(z, c, t, x, y): 30, 2, 1, 1576, 1576\n20181012_S2Rplus_FISH_DAPI_X1-A488_X2-A555_X3-A647_Mark_and_Find_001_Position002_DAPI_Ch3_Probabilities.npy Dimensions(z, c, t, x, y): 30, 2, 1, 1576, 1576\n20181012_S2Rplus_FISH_DAPI_X1-A488_X2-A555_X3-A647_Mark_and_Find_001_Position002_DAPI_Probabilities.npy Dimensions(z, c, t, x, y): 30, 2, 1, 1576, 1576\n20181012_S2Rplus_FISH_DAPI_X1-A488_X2-A555_X3-A647_Mark_and_Find_001_Position003_DAPI_Ch1_Probabilities.npy Dimensions(z, c, t, x, y): 30, 2, 1, 1576, 1576\n",
      "20181012_S2Rplus_FISH_DAPI_X1-A488_X2-A555_X3-A647_Mark_and_Find_001_Position003_DAPI_Ch2_Probabilities.npy Dimensions(z, c, t, x, y): 30, 2, 1, 1576, 1576\n20181012_S2Rplus_FISH_DAPI_X1-A488_X2-A555_X3-A647_Mark_and_Find_001_Position003_DAPI_Ch3_Probabilities.npy Dimensions(z, c, t, x, y): 30, 2, 1, 1576, 1576\n20181012_S2Rplus_FISH_DAPI_X1-A488_X2-A555_X3-A647_Mark_and_Find_001_Position003_DAPI_Probabilities.npy Dimensions(z, c, t, x, y): 30, 2, 1, 1576, 1576\n"
     ],
     "output_type": "stream"
    }
   ],
   "source": [
    "# Create a connection\n",
    "conn = toolbox.open_connection(username=input('OMERO username:'), password=getpass('OMERO password:'), \n",
    "                               group=GROUP, host=OMERO_SERVER, port=PORT, secure=True)\n",
    "print(f'Connection successful: {conn.isConnected()}')\n",
    "\n",
    "# Get all the images contained in the raw dataset\n",
    "raw_dataset = toolbox.get_dataset(connection=conn, dataset_id=RAW_DATASET_ID)\n",
    "raw_images = toolbox.get_dataset_images(dataset=raw_dataset)\n",
    "raw_images = list(raw_images)\n",
    "\n",
    "# ... and in the probabilities dataset\n",
    "prob_dataset = toolbox.get_dataset(connection=conn, dataset_id=PROBABILITIES_DATASET_ID)\n",
    "prob_images = toolbox.get_dataset_images(dataset=prob_dataset)\n",
    "prob_images = list(prob_images)\n",
    "\n",
    "print('RAW IMAGES')\n",
    "for image in raw_images[:3]:\n",
    "    print(f'{image.getName()} Dimensions(z, c, t, x, y): {image.getSizeZ()}, {image.getSizeC()}, {image.getSizeT()}, {image.getSizeX()}, {image.getSizeY()}')\n",
    "\n",
    "print('PROBABILITY IMAGES')\n",
    "for image in prob_images[:12]:\n",
    "    print(f'{image.getName()} Dimensions(z, c, t, x, y): {image.getSizeZ()}, {image.getSizeC()}, {image.getSizeT()}, {image.getSizeX()}, {image.getSizeY()}')\n",
    "    "
   ]
  },
  {
   "cell_type": "markdown",
   "metadata": {},
   "source": [
    "You should see \n",
    "- a few of the raw images: 3-D stacks of 4 channels (DAPI, X1, X2 and X3) and\n",
    "- one probability image per each channel in the raw images : 3-D stacks of 2 channels representing the probability of being Foreground (channel 0) and the probability of being Background (channel 1)\n",
    "\n",
    "http://workshop.openmicroscopy.org/webclient/\n",
    "\n",
    "### Exploring the raw values\n",
    "You may load a part of an image as a **_Numpy ndarray_** (n-dimensional array). \n",
    "This is Python's way to work very efficient with numeric matrices, and that is what an image is."
   ]
  },
  {
   "cell_type": "code",
   "execution_count": 4,
   "metadata": {
    "pycharm": {
     "is_executing": false,
     "name": "#%%\n"
    }
   },
   "outputs": [],
   "source": [
    "# you may use the 'range' optional parameters to get a specified plane or channel or a range (start_included, stop_not_included)\n",
    "raw_data = toolbox.get_intensities(raw_images[0], \n",
    "                                   z_range=(14, 17),  # requests planes 16 and 17 if you start counting with 1\n",
    "                                   c_range=0)  # This is the DAPI channel"
   ]
  },
  {
   "cell_type": "markdown",
   "metadata": {
    "pycharm": {
     "name": "#%% md\n"
    }
   },
   "source": [
    "You may now see the dimensions, ..."
   ]
  },
  {
   "cell_type": "code",
   "execution_count": 5,
   "metadata": {
    "pycharm": {
     "is_executing": false,
     "name": "#%%\n"
    }
   },
   "outputs": [
    {
     "name": "stdout",
     "text": [
      "(3, 1, 1, 1576, 1576)\n"
     ],
     "output_type": "stream"
    }
   ],
   "source": [
    "# The dimensions are stored in the following order (z, c, t, x, y)\n",
    "print(raw_data.shape)"
   ]
  },
  {
   "cell_type": "markdown",
   "source": [
    "... data type and raw values."
   ],
   "metadata": {
    "collapsed": false,
    "pycharm": {
     "name": "#%% md\n"
    }
   }
  },
  {
   "cell_type": "code",
   "source": [
    "print(raw_data.dtype)\n",
    "print(raw_data[0,           # the first plane 15. Note again the 0 based indexing.\n",
    "               0,           \n",
    "               0,           # time point 0\n",
    "               1100:1120,   # x pixels in the format from:until_but_excluded\n",
    "               90:100]      # for example from pixel 90 until pixel 100 (the pixel at position 100 is excluded)\n",
    "      )"
   ],
   "metadata": {
    "collapsed": false,
    "pycharm": {
     "name": "#%%\n",
     "is_executing": false
    }
   },
   "execution_count": 6,
   "outputs": [
    {
     "name": "stdout",
     "text": [
      "uint16\n[[647 295 606 343 371 495  67 486 970 413]\n [ 87 511 382 677 505 456 180 346 330 364]\n [359 523 423 435  88  72  82 221   2 125]\n [222 140  68 321   0 196 153 295  48  79]\n [455 256 246   1  23 145   3  54 276 372]\n [157  23 174 186  54 417  47  18 100   4]\n [378 308 151 256   2 219   0   3  69 157]\n [ 56 210 247 140  39   3   3   4  97   2]\n [300   2   2  82 106 115 174  26   3   2]\n [ 31   1  36   5   1   3  75   3   3   3]\n [ 31  82  39   2  73  44 126 116 104   3]\n [  4 198   4   7 100   2   3   3   3   3]\n [106  31   4   1  18 238   2   3   4  61]\n [ 16 135   4  26  45   3   2   3   4   2]\n [  4   1 104   3  39   3   3   3 107   3]\n [  4  47   2   2   2   8 134   3   4   2]\n [ 27   1   4  69   4   6   2   2  26   1]\n [  2   4   4   8   3  15   4   3   4   3]\n [ 43  15  45  28  52   4   2   3   2   1]\n [ 37  76   5 101   4   1   5  52   3   4]]\n"
     ],
     "output_type": "stream"
    }
   ]
  },
  {
   "cell_type": "markdown",
   "metadata": {},
   "source": [
    "### Visualizing Numpy arrays\n",
    "You may have a more convenient visualization of these data by using any of the python plotting libraries.\n",
    "Python's standard library includes matplotlib. We imported previously *matplotlib.pyplot* as *plt* so let's use it."
   ]
  },
  {
   "cell_type": "code",
   "execution_count": 7,
   "outputs": [
    {
     "data": {
      "text/plain": "<Figure size 432x288 with 1 Axes>",
      "image/png": "[encoded data removed]"
     },
     "metadata": {
      "needs_background": "light"
     },
     "output_type": "display_data"
    }
   ],
   "source": [
    "# We create a plot of the image, a Max Intensity Projection for example\n",
    "MIP = raw_data.max(axis=0)  # specify the axis you want to use for the projection (c=0)\n",
    "plt.imshow(MIP.squeeze())  # Squeeze is removing all dimensions with size 1, they are not very useful\n",
    "\n",
    "# Creating the plot just creates it but you always have to show it\n",
    "plt.show()"
   ],
   "metadata": {
    "collapsed": false,
    "pycharm": {
     "name": "#%%\n",
     "is_executing": false
    }
   }
  },
  {
   "cell_type": "markdown",
   "source": [
    "matplotlib may create very complex publication-ready plots. You may have a look at what you may do in [here](https://matplotlib.org/gallery.html).\n",
    "\n",
    "## Running the analysis\n",
    "Before moving further we have to arrange the images in the two lists so that every raw image has 4 probability images, one per channel."
   ],
   "metadata": {
    "collapsed": false,
    "pycharm": {
     "name": "#%% md\n"
    }
   }
  },
  {
   "cell_type": "code",
   "execution_count": 8,
   "metadata": {
    "pycharm": {
     "is_executing": false,
     "name": "#%%\n"
    }
   },
   "outputs": [],
   "source": [
    "# We are going to create a list of secondary lists where every secondary list \n",
    "# contains the probability images for one single raw image\n",
    "rearranged_prob_images = list()\n",
    "for raw_image in raw_images:  # We are looping through every raw image\n",
    "    name = raw_image.getName()\n",
    "    # We have to remove all the extra characters introduced by Leica. \n",
    "    # Not necessary in principle but as we did it for the probabilities we have to do it again\n",
    "    name = name.replace('/', '_')\n",
    "    name = name.replace('.lif [', '_')\n",
    "    name = name.replace(']', '')\n",
    "    \n",
    "    rearranged_prob_images.append(list())  # We append an empty secondary list\n",
    "    for subfix in ['DAPI_Probabilities',\n",
    "                   'DAPI_Ch1_Probabilities',\n",
    "                   'DAPI_Ch2_Probabilities',\n",
    "                   'DAPI_Ch3_Probabilities']:\n",
    "        for prob_image in prob_images:\n",
    "            if name in prob_image.getname() and subfix in prob_image.getname():\n",
    "                rearranged_prob_images[-1].append(prob_image)\n",
    "                \n",
    "# We don't need to keep two lists of probability images\n",
    "# so we just replace the old list with the new one\n",
    "prob_images = rearranged_prob_images"
   ]
  },
  {
   "cell_type": "markdown",
   "metadata": {},
   "source": [
    "Always good to double check..."
   ]
  },
  {
   "cell_type": "code",
   "execution_count": 9,
   "metadata": {
    "pycharm": {
     "is_executing": false,
     "name": "#%%\n"
    }
   },
   "outputs": [
    {
     "name": "stdout",
     "text": [
      "20181012_S2Rplus_FISH_DAPI_X1-A488_X2-A555_X3-A647.lif [Mark_and_Find_001/Position001]\n20181012_S2Rplus_FISH_DAPI_X1-A488_X2-A555_X3-A647_Mark_and_Find_001_Position001_DAPI_Probabilities.npy\n20181012_S2Rplus_FISH_DAPI_X1-A488_X2-A555_X3-A647_Mark_and_Find_001_Position001_DAPI_Ch1_Probabilities.npy\n20181012_S2Rplus_FISH_DAPI_X1-A488_X2-A555_X3-A647_Mark_and_Find_001_Position001_DAPI_Ch2_Probabilities.npy\n20181012_S2Rplus_FISH_DAPI_X1-A488_X2-A555_X3-A647_Mark_and_Find_001_Position001_DAPI_Ch3_Probabilities.npy\n20181012_S2Rplus_FISH_DAPI_X1-A488_X2-A555_X3-A647.lif [Mark_and_Find_001/Position002]\n20181012_S2Rplus_FISH_DAPI_X1-A488_X2-A555_X3-A647_Mark_and_Find_001_Position002_DAPI_Probabilities.npy\n20181012_S2Rplus_FISH_DAPI_X1-A488_X2-A555_X3-A647_Mark_and_Find_001_Position002_DAPI_Ch1_Probabilities.npy\n20181012_S2Rplus_FISH_DAPI_X1-A488_X2-A555_X3-A647_Mark_and_Find_001_Position002_DAPI_Ch2_Probabilities.npy\n20181012_S2Rplus_FISH_DAPI_X1-A488_X2-A555_X3-A647_Mark_and_Find_001_Position002_DAPI_Ch3_Probabilities.npy\n20181012_S2Rplus_FISH_DAPI_X1-A488_X2-A555_X3-A647.lif [Mark_and_Find_001/Position003]\n20181012_S2Rplus_FISH_DAPI_X1-A488_X2-A555_X3-A647_Mark_and_Find_001_Position003_DAPI_Probabilities.npy\n20181012_S2Rplus_FISH_DAPI_X1-A488_X2-A555_X3-A647_Mark_and_Find_001_Position003_DAPI_Ch1_Probabilities.npy\n20181012_S2Rplus_FISH_DAPI_X1-A488_X2-A555_X3-A647_Mark_and_Find_001_Position003_DAPI_Ch2_Probabilities.npy\n20181012_S2Rplus_FISH_DAPI_X1-A488_X2-A555_X3-A647_Mark_and_Find_001_Position003_DAPI_Ch3_Probabilities.npy\n20181012_S2Rplus_FISH_DAPI_X1-A488_X2-A555_X3-A647.lif [Mark_and_Find_001/Position004]\n20181012_S2Rplus_FISH_DAPI_X1-A488_X2-A555_X3-A647_Mark_and_Find_001_Position004_DAPI_Probabilities.npy\n20181012_S2Rplus_FISH_DAPI_X1-A488_X2-A555_X3-A647_Mark_and_Find_001_Position004_DAPI_Ch1_Probabilities.npy\n20181012_S2Rplus_FISH_DAPI_X1-A488_X2-A555_X3-A647_Mark_and_Find_001_Position004_DAPI_Ch2_Probabilities.npy\n20181012_S2Rplus_FISH_DAPI_X1-A488_X2-A555_X3-A647_Mark_and_Find_001_Position004_DAPI_Ch3_Probabilities.npy\n20181012_S2Rplus_FISH_DAPI_X1-A488_X2-A555_X3-A647.lif [Mark_and_Find_001/Position005]\n20181012_S2Rplus_FISH_DAPI_X1-A488_X2-A555_X3-A647_Mark_and_Find_001_Position005_DAPI_Probabilities.npy\n20181012_S2Rplus_FISH_DAPI_X1-A488_X2-A555_X3-A647_Mark_and_Find_001_Position005_DAPI_Ch1_Probabilities.npy\n20181012_S2Rplus_FISH_DAPI_X1-A488_X2-A555_X3-A647_Mark_and_Find_001_Position005_DAPI_Ch2_Probabilities.npy\n20181012_S2Rplus_FISH_DAPI_X1-A488_X2-A555_X3-A647_Mark_and_Find_001_Position005_DAPI_Ch3_Probabilities.npy\n"
     ],
     "output_type": "stream"
    }
   ],
   "source": [
    "for i in range(5):\n",
    "    print(raw_images[i].getName())\n",
    "    for p in prob_images[i]: print(p.getName())"
   ]
  },
  {
   "cell_type": "markdown",
   "metadata": {},
   "source": [
    "## Analyzing the images\n",
    "Now we have everything ready to start our image analysis. We want to:\n",
    "- Segment each channel using the probability values extracted by Ilastik in stead of the raw values.\n",
    "- Save that segmentation into OMERO.\n",
    "- While we still have the images in memory, we would like to calculate the centroids of the spots this time \n",
    "using the raw pixel values.\n",
    "- We will save the centroid coordinates as a table associated to every image.\n",
    "\n",
    "For most of the image analysis we are going to use scikit-image, a python iamge analysis library built on top of numpy.\n",
    "We will have to fix, for each chanel:\n",
    " - an upper threshold marking what is going to be defined as an object\n",
    " - a lower threshold marking until what probability the object is going to segment\n",
    " TODO: put an image\n",
    "\n",
    "### Creating an analysis function for every image\n",
    "It's good practice to create a function where you encapsulate the logic of the analysis. Like that it is easier to focus on the work flow."
   ]
  },
  {
   "cell_type": "code",
   "execution_count": 18,
   "metadata": {
    "pycharm": {
     "is_executing": false,
     "name": "#%%\n"
    }
   },
   "outputs": [],
   "source": [
    "def run_analysis_image(raw_image, prob_image_list, up_thresholds, low_thresholds, size_thresholds, min_distance):\n",
    "    \"\"\"This function encapsulates our analysis of a single OMERO image\"\"\"\n",
    "    \n",
    "    # We get the pixel size from OMERO\n",
    "    pixel_size = toolbox.get_pixel_sizes(raw_image)\n",
    "    \n",
    "    # We create an empty lists to store the different measurements of the spots\n",
    "    spots_props = list()\n",
    "    \n",
    "    # We now loop through every channel but the DAPI\n",
    "    for ch_nr, ch_prob in enumerate(prob_image_list[1:]):  # Note the notation [1:]. It means from the second element to the end\n",
    "        \n",
    "        print(f'Loading probabilities channel {ch_nr}')        \n",
    "        # We only want to segment on the probability of being foreground\n",
    "        ch_prob_data = toolbox.get_intensities(ch_prob, c_range=0)\n",
    "        \n",
    "        print('Segmenting...')\n",
    "        ch_prob_data = ch_prob_data.astype('float16', casting='same_kind')\n",
    "        labels = toolbox.segment_channel(channel=ch_prob_data.squeeze(),\n",
    "                                         min_distance=1,\n",
    "                                         sigma=None,\n",
    "                                         method='hysteresis',\n",
    "                                         hysteresis_levels=(low_thresholds[ch_nr], up_thresholds[ch_nr]))\n",
    "        del(ch_prob_data)                    \n",
    "        \n",
    "        # The labels object contains now the segmentation masks for every found object\n",
    "        # We use it to calculate the properties of every object using the raw data:\n",
    "\n",
    "        # We get the raw intensity values from OMERO avoiding the DAPI channel\n",
    "        print(f'Loading raw channel {ch_nr}')        \n",
    "        raw_data = toolbox.get_intensities(raw_image, c_range=(1 + ch_nr))\n",
    "                \n",
    "        print('Computing properties...')\n",
    "        spots_props_channel = toolbox.compute_channel_spots_properties(channel=raw_data.squeeze(),\n",
    "                                                                       label_channel=labels)\n",
    "        del(raw_data)\n",
    "        \n",
    "        # We can filter out the spots that are too small\n",
    "        for i in reversed(range(len(spots_props_channel))):\n",
    "            if spots_props_channel[i]['area'] < size_thresholds[ch_nr]:\n",
    "                del spots_props_channel[i]\n",
    "        \n",
    "        # We append the spots properties and positions to the lists containing the image measurements\n",
    "        spots_props.append(spots_props_channel)\n",
    "        \n",
    "    # We have all the information collected for every channel we can now apply a function to measure the pairwise distances between the spots\n",
    "    spots_pos = list()\n",
    "    for p in spots_props:\n",
    "        spots_pos.append(np.array([x['weighted_centroid'] for x in p]))\n",
    "    print('Computing distances...')\n",
    "    pairwise_distances = toolbox.compute_distances_matrix(positions=spots_pos,\n",
    "                                                          sigma=min_distance,  # this marks a threshold for the distances that are going to be accepted\n",
    "                                                          pixel_size=pixel_size,\n",
    "                                                          remove_mcn=True)\n",
    "    return pairwise_distances\n",
    "        "
   ]
  },
  {
   "cell_type": "markdown",
   "source": [
    "### Running the analysis\n",
    "Now we have created a function we can apply it to every image in the dataset and collect the results.\n",
    "\n",
    "Note that this analysis might be more or less slow depending on:\n",
    "- the speed of the connection between the OMERO and Jupyter servers and\n",
    "- the CPU specs associated to the Jupyter python kernel.\n",
    "\n",
    "However, this is not how you are going to analyze large amounts of data. Typically, you are going to deploy the execution of the most demanding tasks to either:\n",
    "- different execution threads (for example, one thread reading the data from OMERO and another thread doing the calculations)\n",
    "- different CPU processes (for heavier calculations)\n",
    "- a HPC cluster (for even heavier calculations)\n",
    "- or to the GPU (for heavy calculations that can take advantage of these, for example when implementing deep learning)"
   ],
   "metadata": {
    "collapsed": false,
    "pycharm": {
     "name": "#%% md\n"
    }
   }
  },
  {
   "cell_type": "code",
   "execution_count": 20,
   "outputs": [
    {
     "data": {
      "text/plain": "IntProgress(value=0, description='Progress:', max=12)",
      "application/vnd.jupyter.widget-view+json": {
       "version_major": 2,
       "version_minor": 0,
       "model_id": "c738d51c20ba420285f767fe68d3e33a"
      }
     },
     "metadata": {},
     "output_type": "display_data"
    },
    {
     "name": "stdout",
     "text": [
      "Analyzing image 0 / 12\n",
      "Analyzing channel 0\n",
      "Analyzing channel 1\n",
      "Analyzing channel 2\n",
      "Analyzing image 1 / 12\n",
      "Analyzing channel 0\n",
      "Analyzing channel 1\n",
      "Analyzing channel 2\n"
     ],
     "output_type": "stream"
    }
   ],
   "source": [
    "# Let's fix the probability hysteresis thresholds at which we want to segment.\n",
    "# There will be an upper threshold and a lower threshold per channel.\n",
    "upper_thresholds = (.9, .9, .9)\n",
    "lower_thresholds = (.6, .6, .6)\n",
    "\n",
    "# We are going to use a size filter to remove the objects that are too small\n",
    "size_thresholds = (500, 500, 500)\n",
    "\n",
    "# We should define a minimum distance threshold, in the same units as the data\n",
    "min_distance = 100\n",
    "\n",
    "# A list to contain all of the distances\n",
    "pairwise_distances_dataset = list()\n",
    "\n",
    "# We create here a small widget to follow the progress\n",
    "progress = widgets.IntProgress(value=0, min=0, max=len(raw_images), description='Progress:')\n",
    "display(progress)\n",
    "\n",
    "# We loop through every image in the raw images list\n",
    "for index, raw_image in enumerate(raw_images):\n",
    "    \n",
    "    print(f'Analyzing image {index} / {len(raw_images)}')\n",
    "    \n",
    "    # We run the analysis on every image\n",
    "    calculated_distances = run_analysis_image(raw_image=raw_image,\n",
    "                                              prob_image_list=prob_images[index],\n",
    "                                              up_thresholds=upper_thresholds,   # Do not confuse the name of the function parameters\n",
    "                                              low_thresholds=lower_thresholds,  # with the name of the variables we are passing\n",
    "                                              size_thresholds=size_thresholds,\n",
    "                                              min_distance=min_distance)\n",
    "    \n",
    "    pairwise_distances_dataset.append(calculated_distances)\n",
    "        \n",
    "    # Update the progress bar\n",
    "    progress.value = 1 + index"
   ],
   "metadata": {
    "collapsed": false,
    "pycharm": {
     "name": "#%%\n",
     "is_executing": false
    }
   }
  },
  {
   "cell_type": "markdown",
   "source": [
    "Now we have a rather complex list of lists of dictionaries containing all the relevant data. \n",
    "For every combination of channels a and b we know:\n",
    "- the id of the spot in channel a\n",
    "- the 3D coordinates of the centroid of that spot (z, x and y)\n",
    "- the 3D distance to the closest spot in channel b\n",
    "- the id of the closest spot in channel b\n",
    "\n",
    "Here is how the data is arranged:\n",
    "- list: [image0, image1, image2...]\n",
    "    - list: [ch_1 vs ch_2, ch_1 vs ch_2, ch_2 vs ch_1,...]\n",
    "        - dictionary: {channels, coord_A, dist_3d, index_A, index_B}\n",
    "\n",
    "We can request some of these data. For example for image 1 and channels 2 and 3"
   ],
   "metadata": {
    "collapsed": false,
    "pycharm": {
     "name": "#%% md\n"
    }
   }
  },
  {
   "cell_type": "code",
   "execution_count": 21,
   "outputs": [
    {
     "name": "stdout",
     "text": [
      "A_ID\tB_ID\tA_xyz_coord\t\t\tAB_distance_3D\n0\t0\t672.3885, 318.8346, 9.8843\t2.678545478975344\n3\t2\t1351.0084, 838.2805, 10.0452\t2.333146580949384\n5\t1\t1275.1111, 1035.6886, 11.2874\t0.47455287710822097\n7\t5\t1048.8317, 1488.5022, 14.4034\t3.357027972794053\n9\t6\t286.8638, 349.0403, 15.4400\t4.407357048908081\n11\t4\t271.9678, 1528.2004, 15.7417\t2.2947236395385073\n12\t10\t992.6097, 266.3319, 17.8664\t1.2422967241237495\n13\t11\t1404.8133, 583.4668, 19.5149\t0.9040115853021758\n15\t8\t1491.2473, 1548.9191, 18.3673\t1.9634735780637687\n17\t13\t610.7759, 615.7992, 19.5994\t0.3927398277302161\n18\t12\t1205.6865, 635.0886, 18.7400\t3.2479710770346326\n20\t9\t1524.9158, 237.3919, 21.6616\t70.25533676392406\n"
     ],
     "output_type": "stream"
    }
   ],
   "source": [
    "image_nr = 0\n",
    "channels = (1, 2)\n",
    "\n",
    "print('A_ID\\tB_ID\\tA_xyz_coord\\t\\t\\tAB_distance_3D')\n",
    "for distances in pairwise_distances_dataset[image_nr]:\n",
    "    if distances['channels'] == channels:\n",
    "        for coord_A, dist_3d, index_A, index_B in zip(distances['coord_A'], \n",
    "                                                      distances['dist_3d'], \n",
    "                                                      distances['index_A'], \n",
    "                                                      distances['index_B']):\n",
    "            print(f'{index_A}\\t{index_B}\\t{coord_A[1]:.4f}, {coord_A[2]:.4f}, {coord_A[0]:.4f}\\t{dist_3d}')\n",
    "        break"
   ],
   "metadata": {
    "collapsed": false,
    "pycharm": {
     "name": "#%%\n",
     "is_executing": false
    }
   }
  },
  {
   "cell_type": "markdown",
   "source": [
    "## Storing the data back into OMERO\n",
    "We have all the data now, and we can store them back into OMERO\n",
    "\n",
    "### Storing the spots as ROIs\n",
    "We can, for example save every spot as a point ROI associated to the image"
   ],
   "metadata": {
    "collapsed": false,
    "pycharm": {
     "name": "#%% md\n"
    }
   }
  },
  {
   "cell_type": "code",
   "execution_count": 23,
   "outputs": [],
   "source": [
    "for distances, raw_image in zip(pairwise_distances_dataset, raw_images):\n",
    "    \n",
    "    # We loop over every distance pair, create a 'point shape' and add it to the list\n",
    "    for distance_pair in distances:\n",
    "\n",
    "        # We create an empty list to put all the points\n",
    "        point_shapes = list()\n",
    "\n",
    "        for (z, x, y), id_a in zip(distance_pair['coord_A'], distance_pair['index_A']):\n",
    "            point = toolbox.create_shape_point(x_pos=x, \n",
    "                                               y_pos=y, \n",
    "                                               z_pos=int(z) - 1,  # z position must be entered as an integer\n",
    "                                               t_pos=0,\n",
    "                                               point_name=f'Ch:{1 + distance_pair[\"channels\"][0]}_id:{id_a}')\n",
    "            point_shapes.append(point)\n",
    "\n",
    "        # We create a ROI containing all of these points. Alternatively, we could create a ROI per point.\n",
    "        roi = toolbox.create_roi(connection=conn,\n",
    "                                 image=raw_image,\n",
    "                                 shapes=point_shapes)"
   ],
   "metadata": {
    "collapsed": false,
    "pycharm": {
     "name": "#%%\n",
     "is_executing": false
    }
   }
  },
  {
   "cell_type": "markdown",
   "source": [
    "### Storing data as a table\n",
    "You may store large amounts of data in *_OMERO.tables_*. Let's store the distances as a table.\n",
    "\n",
    "First we have to extract the data properly. We will need:\n",
    "- A list with the column names\n",
    "- A list with the column descriptions (optional).\n",
    "- A list of columns where every column is a list with the values\n",
    "\n",
    "We will store:\n",
    "- Channel (a) where the spot is located\n",
    "- Channel (b) where the closest spot is located\n",
    "- Coordinates of the spot\n",
    "- Units of the coordinates\n",
    "- 3D-distance to the closest spot\n",
    "- Units of the Distance"
   ],
   "metadata": {
    "collapsed": false,
    "pycharm": {
     "name": "#%% md\n"
    }
   }
  },
  {
   "cell_type": "code",
   "execution_count": 40,
   "outputs": [],
   "source": [
    "# We create the list with the column names\n",
    "col_names = ['image_id',\n",
    "             'channel_a', \n",
    "             'channel_b', \n",
    "             'coord_z',\n",
    "             'coord_x',\n",
    "             'coord_y',\n",
    "             'coord_units',  # Measurement make no sense without the units\n",
    "             'mcn_dist_3d',\n",
    "             'mcn_dist_3d_units',\n",
    "             ]\n",
    "\n",
    "# We create the list with the column names\n",
    "col_desc = ['ID of the image',\n",
    "            'Channel where the spot is located', \n",
    "            'Channel where the mutual closest neighbour spot is located', \n",
    "            'Z position of the weighted centroid of the spot',\n",
    "            'X position of the weighted centroid of the spot',\n",
    "            'Y position of the weighted centroid of the spot',\n",
    "            'Position units',\n",
    "            '3D distance to the mutual closes neighbour (MCN)',\n",
    "            '3D MCN distance units',\n",
    "            ]\n",
    "\n",
    "# We create a list of lists to hold the data\n",
    "col_data = [list() for e in col_names]\n",
    "\n",
    "# Let's loop through distances and images to populate the data in th column\n",
    "for raw_image, distances in zip(raw_images, pairwise_distances_dataset):\n",
    "    for distance_pair in distances:\n",
    "        for i in range(len(distance_pair['dist_3d'])):\n",
    "            col_data[0].append(raw_image.getId())\n",
    "            col_data[1].append(1 + distance_pair['channels'][0])\n",
    "            col_data[2].append(1 + distance_pair['channels'][1])\n",
    "            col_data[3].append(distance_pair['coord_A'][i][0])\n",
    "            col_data[4].append(distance_pair['coord_A'][i][1])\n",
    "            col_data[5].append(distance_pair['coord_A'][i][2])\n",
    "            col_data[6].append('PIXEL')\n",
    "            col_data[7].append(distance_pair['dist_3d'][i])\n",
    "            # Note that OMERO provides the pixel size units for each axis. We assume here that the unit is the same for each axis\n",
    "            col_data[8].append(toolbox.get_pixel_units(raw_image)[0])"
   ],
   "metadata": {
    "collapsed": false,
    "pycharm": {
     "name": "#%%\n",
     "is_executing": false
    }
   }
  },
  {
   "cell_type": "markdown",
   "source": [
    "Now we are ready to save this table to OMERO and link it to the original dataset"
   ],
   "metadata": {
    "collapsed": false,
    "pycharm": {
     "name": "#%% md\n"
    }
   }
  },
  {
   "cell_type": "code",
   "execution_count": 39,
   "outputs": [],
   "source": [
    "OMERO_table = toolbox.create_annotation_table(connection=conn,\n",
    "                                              table_name='Distances_table_V1', \n",
    "                                              column_names=col_names, \n",
    "                                              column_descriptions=col_desc, \n",
    "                                              values=col_data)\n",
    "\n",
    "toolbox.link_annotation(raw_dataset, OMERO_table)"
   ],
   "metadata": {
    "collapsed": false,
    "pycharm": {
     "name": "#%%\n",
     "is_executing": false
    }
   }
  },
  {
   "cell_type": "markdown",
   "source": [
    "## Closing the connection\n",
    "Let's clean up after our selves"
   ],
   "metadata": {
    "collapsed": false
   }
  },
  {
   "cell_type": "code",
   "execution_count": 16,
   "metadata": {
    "pycharm": {
     "is_executing": false,
     "name": "#%%\n"
    }
   },
   "outputs": [
    {
     "name": "stdout",
     "text": [
      "Connected? False\n"
     ],
     "output_type": "stream"
    }
   ],
   "source": [
    "# Closing the connection to OMERO\n",
    "conn.close()\n",
    "\n",
    "# And verifying tha it closed\n",
    "print(f'Connected? {conn.isConnected()}')\n"
   ]
  }
 ],
 "metadata": {
  "kernelspec": {
   "display_name": "Python 3",
   "language": "python",
   "name": "python3"
  },
  "language_info": {
   "codemirror_mode": {
    "name": "ipython",
    "version": 3
   },
   "file_extension": ".py",
   "mimetype": "text/x-python",
   "name": "python",
   "nbconvert_exporter": "python",
   "pygments_lexer": "ipython3",
   "version": "3.7.5"
  },
  "pycharm": {
   "stem_cell": {
    "cell_type": "raw",
    "source": [],
    "metadata": {
     "collapsed": false
    }
   }
  }
 },
 "nbformat": 4,
 "nbformat_minor": 1
}